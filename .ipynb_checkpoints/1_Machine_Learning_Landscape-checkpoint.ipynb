{
  "nbformat": 4,
  "nbformat_minor": 0,
  "metadata": {
    "colab": {
      "provenance": [],
      "authorship_tag": "ABX9TyNiNoFXXm/r8YWbJgjpWNjW"
    },
    "kernelspec": {
      "name": "python3",
      "display_name": "Python 3"
    },
    "language_info": {
      "name": "python"
    }
  },
  "cells": [
    {
      "cell_type": "markdown",
      "source": [
        "# Part I. The Fundamentals of Machine Learning"
      ],
      "metadata": {
        "id": "mk3pJN3KYbS_"
      }
    },
    {
      "cell_type": "markdown",
      "source": [
        "## Chapter 1. The Machine Learning Landscape"
      ],
      "metadata": {
        "id": "Ap9ueAfLYobF"
      }
    },
    {
      "cell_type": "markdown",
      "source": [
        "### What iss Machine Learning?\n",
        "Machine Learning the field of study that gives computers the ability to learn without explictly being programmed.\n",
        "\n",
        "For example - Spam emails\n",
        "\n",
        "**Why Use Machine Learning?** \\\n",
        "Consider writting a program to filter spam emails.\n",
        "1. You have to multiple condition to seggregate and filter them out.\n",
        "2. As you got the spammers can always use different email structure or words to send the spam.\n",
        "3. So you have to always update the rules whenever you have new rules added.\n",
        "\n",
        "Then comes *bam bam bam!* **Machine Learning** to rescue. \\\n",
        "\n",
        "1. Machine Learning model will get trained on the users spamming the emails and learn this behaviour and automatically updates it model to give better spam filter than before.\n",
        "\n",
        "Another Area where ML shines is when we don't have any possible algorithm to solve a problems or the problem is too  complex for traditional approaches.\n",
        "\n",
        "Applying ML techniques to dig into large amounts of data to discover patterns that were not immediately apparent. This is called `data mining`.\n"
      ],
      "metadata": {
        "id": "hG2WKR0bY5bd"
      }
    },
    {
      "cell_type": "markdown",
      "source": [
        "### Types of Machine Learning\n",
        "\n",
        "**Supervised Learning** \\\n",
        "**UnSupervised Learning**"
      ],
      "metadata": {
        "id": "OY26Ve2hZDp4"
      }
    },
    {
      "cell_type": "markdown",
      "source": [
        "#### Supervised Learning\n",
        "In supervised Learning, the training data you feed to the algorithm inclueds the desired solutions, called labels.\n",
        "* Classification: Spam or not\n",
        "* Predictors ( Regression): Price of Car next year\n",
        "\n",
        "Some important Supervised Learning algorithms:\n",
        "* k-Nearest Neighbors\n",
        "* Linear Regression\n",
        "* Logistic Regression\n",
        "* Support Vector Machines (SVMs)\n",
        "* Decision Trees and Random Forests\n",
        "* Neural networks"
      ],
      "metadata": {
        "id": "oE96fK_6c9Nq"
      }
    },
    {
      "cell_type": "markdown",
      "source": [
        "#### Unsupervised Learning\n",
        "Here the systems tries to learn without a teacher.\n",
        "\n",
        "Some important Algorithm\n",
        "* Clustering\n",
        "  * K-Means\n",
        "  * DBSCAN\n",
        "  * Hierarchical Cluster Analysis (HCA)\n",
        "* Anomaly detection and novelty detection\n",
        "  * One-class SVM\n",
        "  * Isolation Forest\n",
        "* Visualization and dimensionality reduction\n",
        "  * Principal Component Analysis (PCA)\n",
        "  * Kernel PCA\n",
        "  * Locally-Linear Embedding (LLE)\n",
        "  * t-distributed Stochastic Neighbor Embedding (t-SNE)\n",
        "* Association rule learning\n",
        "  * Apriori\n",
        "  * Eclat\n",
        "\n",
        "For example you have data about a blog's visitor. You may want to run a clustering algorithm to try to detect groups of similar visitors (Figure 1-8). At no Point do you tell the algorithm which groups of similar visitors.\n",
        "\n",
        "One more example is dimensionality reduction, in which the goal is to simplify the data without losing too much information. One way is to merge correleted features into one. For example mileage and age of the car might have good correlation so you can create a single feature out these two correlated features. This is called **Feature extraction**.\n",
        "\n",
        "Yet another important unsupervised task is anomaly detection.For example detecting unusual credit card transactions to prevent fraud, catching manufacturing defects, or automatically removing the outliers from a dataset before feeding it to another learning algorithm.\n",
        "\n",
        "Model is been trained on normal instances during training, so ti learns to recognize them and when it sees a new instances it can tell whether it looks like a normal one or whether it is likely an anomaly. A very similar task is **novely detection**.\n",
        "\n",
        ": the difference is that novelty detection algorithms expect to\n",
        "see only normal data during training, while anomaly detection algorithms are usually\n",
        "more tolerant, they can often perform well even with a small percentage of outliers in\n",
        "the training set.\n",
        "\n",
        "Finally, another common unsupervised task is **association rule learning**, in which the\n",
        "goal is to dig into large amounts of data and discover interesting relations between\n",
        "attributes. For example, suppose you own a supermarket. Running an association rule\n",
        "on your sales logs may reveal that people who purchase barbecue sauce and potato\n",
        "chips also tend to buy steak. Thus, you may want to place these items close to each\n",
        "other."
      ],
      "metadata": {
        "id": "rXEUKUM2dWSa"
      }
    },
    {
      "cell_type": "markdown",
      "source": [
        "#### Semisupervised Learning\n",
        "Combinations of Supvervised and unsupervised algorithms.\n",
        "\n",
        "For example: deep belif networks (DBNs) - base/trained is unsupervised -> restricted Boltzmann machings - then whole system is fine tuned in supervised learning techniques."
      ],
      "metadata": {
        "id": "y0PnFb7dffnp"
      }
    },
    {
      "cell_type": "markdown",
      "source": [
        "#### **Reinforcement Learning**\n",
        "Learning system - called - agent can observe the environment, select and perform actions, and get rewards in return.\n",
        "\n",
        "It is then learned by itself what is the best strategy called policy, to get the most reward over time."
      ],
      "metadata": {
        "id": "JlDKUgg-j5aa"
      }
    },
    {
      "cell_type": "markdown",
      "source": [
        "### **Batch and Online Learning**\n",
        "\n",
        "**Batch Learning:**\n",
        "* System incapable of learning incrementally.\n",
        "* Must be trained in available dataset   \n",
        "* Requires a lot of computing resources\n",
        "\n",
        "**Online Learning**\n",
        "* Trains incrementally\n",
        "* Each learning step is fast and cheap\n",
        "* Once an online learning systems has learned about a new data instances,it does need them anymore\n",
        "* For huge datasets than cannot fit one machine's main memory ( this is called out-of-core learning). The algoritms loadspart of the data, runs a step on that data and repeats the process untill it has run on all of the data.\n",
        "\n",
        "Important parameter: How fast the model should adapt to changing data: this is called learning rate. If fast then it will forgets the old data rapidly. Conversely if the learning rate is slow then the system will have more inertia; but it will also be less sensitive to noise in the new data or to sequences of nonrepresentative data points (outliers)\n",
        "\n",
        "**Challenge with Online Learning**\n",
        "When fed bad data the system's performance gradualy decline. Need to monitor the performance closely and stop the learning and revert back to previous working state."
      ],
      "metadata": {
        "id": "hKf1oPRCkZ7q"
      }
    },
    {
      "cell_type": "markdown",
      "source": [
        "### **Instance-based Learning vs Model-based Learning**\n",
        "\n",
        "![alt text](https://miro.medium.com/v2/resize:fit:638/1*rxBUhOROIAbmSQ7EkK7RSQ.png)\n",
        "\n",
        "![alt text](https://miro.medium.com/v2/resize:fit:1400/1*yXSPjsFDaZyFkCtkxRXRrA.png)"
      ],
      "metadata": {
        "id": "Zaqc9xuQnM5j"
      }
    },
    {
      "cell_type": "markdown",
      "source": [
        "### **Irrevelant Features**\n",
        "A critical part of the sucess of a Machine Learning Project is coming up with good set of features to train on. This process called **Feature Engineering**.\n",
        "\n",
        "This involves,\n",
        "* Feature selection\n",
        "* Feature Extraction: Combining existing feature to produce more useful one\n",
        "* Creating new features by gathering new data."
      ],
      "metadata": {
        "id": "qvk_tHihqNVb"
      }
    },
    {
      "cell_type": "markdown",
      "source": [
        "### **Overfitting the Training Data**\n",
        "Say you are in a new city and a new taxi driver rips you off. You say all the taxi drive in the cities are thief. Overgeneralizing is something that we humans do all too often, and unfortunately machines can fall into the same trap if we are not careful. In Machine Learnig it is call **Overfitting**. It means it perform well in the training data but does not generalize well.\n",
        "\n",
        "Overfitting happens when the model is too complex relative to the amount and noisiness of the training data. The possible solutions are:\n",
        "* To simplify the model by selecting one with fewer parameters, by reducing number of attributes in the training data or by constraining the model\n",
        "* To gather more training data\n",
        "* To reduce the noise\n",
        "\n",
        "Constraining a model to make it simple and reduce the risk of overfitting is called **Regularization**\n"
      ],
      "metadata": {
        "id": "kRD_EhDa6nh-"
      }
    },
    {
      "cell_type": "markdown",
      "source": [
        "### Underfitting the Training Data\n",
        "A model is too simple to learn the underlying structure of the data.\n",
        "\n",
        "The main options to fix this problem are:\n",
        "* Selecting a more powerful model, with more parameters\n",
        "* Feeding better features to the learning algorithm (feature engineering)\n",
        "* Reducing the constraints on the model (e.g. reducing teh regularization hyper parameter)"
      ],
      "metadata": {
        "id": "HxIz-4_sEllY"
      }
    },
    {
      "cell_type": "code",
      "source": [
        "import requests\n",
        "\n",
        "response = requests.get('https://github.com/ageron/handson-ml2/blob/master/datasets/lifesat/oecd_bli_2015.csv')\n",
        "\n",
        "response.status_code"
      ],
      "metadata": {
        "colab": {
          "base_uri": "https://localhost:8080/"
        },
        "id": "HC2-_x_THfJi",
        "outputId": "a6b809f3-eb9f-464f-ba51-7ddbb5f0855e"
      },
      "execution_count": 41,
      "outputs": [
        {
          "output_type": "execute_result",
          "data": {
            "text/plain": [
              "200"
            ]
          },
          "metadata": {},
          "execution_count": 41
        }
      ]
    },
    {
      "cell_type": "code",
      "source": [
        "import pandas as pd\n",
        "import requests\n",
        "\n",
        "url = 'https://raw.githubusercontent.com/ageron/handson-ml2/master/datasets/lifesat/oecd_bli_2015.csv'\n",
        "response = requests.get(url)\n",
        "\n",
        "if response.status_code == 200:\n",
        "    oecd_bi = pd.read_csv(url)\n",
        "    print(oecd_bi.head())\n",
        "else:\n",
        "    print('Failed to fetch data:', response.status_code)\n"
      ],
      "metadata": {
        "colab": {
          "base_uri": "https://localhost:8080/"
        },
        "id": "0UbNOib2MBmg",
        "outputId": "00c56b8c-201e-4dcf-a392-95a3122869ec"
      },
      "execution_count": 46,
      "outputs": [
        {
          "output_type": "stream",
          "name": "stdout",
          "text": [
            "  LOCATION         Country INDICATOR                           Indicator  \\\n",
            "0      AUS       Australia   HO_BASE  Dwellings without basic facilities   \n",
            "1      AUT         Austria   HO_BASE  Dwellings without basic facilities   \n",
            "2      BEL         Belgium   HO_BASE  Dwellings without basic facilities   \n",
            "3      CAN          Canada   HO_BASE  Dwellings without basic facilities   \n",
            "4      CZE  Czech Republic   HO_BASE  Dwellings without basic facilities   \n",
            "\n",
            "  MEASURE Measure INEQUALITY Inequality Unit Code        Unit  PowerCode Code  \\\n",
            "0       L   Value        TOT      Total        PC  Percentage               0   \n",
            "1       L   Value        TOT      Total        PC  Percentage               0   \n",
            "2       L   Value        TOT      Total        PC  Percentage               0   \n",
            "3       L   Value        TOT      Total        PC  Percentage               0   \n",
            "4       L   Value        TOT      Total        PC  Percentage               0   \n",
            "\n",
            "  PowerCode  Reference Period Code  Reference Period  Value Flag Codes  \\\n",
            "0     units                    NaN               NaN    1.1          E   \n",
            "1     units                    NaN               NaN    1.0        NaN   \n",
            "2     units                    NaN               NaN    2.0        NaN   \n",
            "3     units                    NaN               NaN    0.2        NaN   \n",
            "4     units                    NaN               NaN    0.9        NaN   \n",
            "\n",
            "             Flags  \n",
            "0  Estimated value  \n",
            "1              NaN  \n",
            "2              NaN  \n",
            "3              NaN  \n",
            "4              NaN  \n"
          ]
        }
      ]
    },
    {
      "cell_type": "code",
      "source": [
        "url = 'https://github.com/ageron/handson-ml2/blob/master/datasets/lifesat/gdp_per_capita.csv'\n",
        "response = requests.get(url)\n",
        "column_names = ['Country', 'Subject Descriptor', 'Units', 'Scale', 'Country/Series-specific Notes', '2015', 'Estimates Start After']\n",
        "if response.status_code==200:\n",
        "  data_gdp = pd.read_csv(url,\n",
        "                         delimiter='/t',\n",
        "                         names=column_names)\n",
        "  print(data_gdp.head())\n",
        "else:\n",
        "  print('failed')"
      ],
      "metadata": {
        "colab": {
          "base_uri": "https://localhost:8080/"
        },
        "id": "xt28QwIgN00M",
        "outputId": "574652c4-9150-4c06-812e-072df52dc3a7"
      },
      "execution_count": 53,
      "outputs": [
        {
          "output_type": "stream",
          "name": "stderr",
          "text": [
            "<ipython-input-53-14125963bc41>:5: ParserWarning: Falling back to the 'python' engine because the 'c' engine does not support regex separators (separators > 1 char and different from '\\s+' are interpreted as regex); you can avoid this warning by specifying engine='python'.\n",
            "  data_gdp = pd.read_csv(url,\n"
          ]
        },
        {
          "output_type": "stream",
          "name": "stdout",
          "text": [
            "                                             Country Subject Descriptor  \\\n",
            "0                                    <!DOCTYPE html>               None   \n",
            "1                                              <html               None   \n",
            "2                                          lang=\"en\"               None   \n",
            "3  data-color-mode=\"auto\" data-light-theme=\"light...               None   \n",
            "4  data-a11y-animated-images=\"system\" data-a11y-l...               None   \n",
            "\n",
            "   Units  Scale  Country/Series-specific Notes  2015  Estimates Start After  \n",
            "0    NaN    NaN                            NaN   NaN                    NaN  \n",
            "1    NaN    NaN                            NaN   NaN                    NaN  \n",
            "2    NaN    NaN                            NaN   NaN                    NaN  \n",
            "3    NaN    NaN                            NaN   NaN                    NaN  \n",
            "4    NaN    NaN                            NaN   NaN                    NaN  \n"
          ]
        }
      ]
    },
    {
      "cell_type": "code",
      "source": [],
      "metadata": {
        "id": "n0Wxgq1OONKC"
      },
      "execution_count": null,
      "outputs": []
    }
  ]
}